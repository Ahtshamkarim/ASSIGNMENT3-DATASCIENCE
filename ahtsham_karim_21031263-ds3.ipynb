{
 "cells": [
  {
   "cell_type": "code",
   "execution_count": 1,
   "id": "31cc1a47",
   "metadata": {},
   "outputs": [],
   "source": [
    "# utility libraries\n",
    "import numpy as np\n",
    "import matplotlib.pyplot as plt\n",
    "import pandas as pd"
   ]
  },
  {
   "cell_type": "code",
   "execution_count": 13,
   "id": "57cbf3ed",
   "metadata": {},
   "outputs": [],
   "source": [
    "# dataset\n",
    "urban_df = pd.read_csv('urban population.csv')\n",
    "\n",
    "'''choose for clustering because its very long dataset but we only choose two years for clustering'''\n",
    "Df_urban = urban_df[[\"2016\",\"2017\"]].dropna()\n",
    "\n",
    "\n",
    "# make arrary\n",
    "X = Df_urban.values"
   ]
  },
  {
   "cell_type": "code",
   "execution_count": 14,
   "id": "eb8b24b7",
   "metadata": {},
   "outputs": [
    {
     "data": {
      "text/html": [
       "<div>\n",
       "<style scoped>\n",
       "    .dataframe tbody tr th:only-of-type {\n",
       "        vertical-align: middle;\n",
       "    }\n",
       "\n",
       "    .dataframe tbody tr th {\n",
       "        vertical-align: top;\n",
       "    }\n",
       "\n",
       "    .dataframe thead th {\n",
       "        text-align: right;\n",
       "    }\n",
       "</style>\n",
       "<table border=\"1\" class=\"dataframe\">\n",
       "  <thead>\n",
       "    <tr style=\"text-align: right;\">\n",
       "      <th></th>\n",
       "      <th>2016</th>\n",
       "      <th>2017</th>\n",
       "    </tr>\n",
       "  </thead>\n",
       "  <tbody>\n",
       "    <tr>\n",
       "      <th>count</th>\n",
       "      <td>262.000000</td>\n",
       "      <td>262.000000</td>\n",
       "    </tr>\n",
       "    <tr>\n",
       "      <th>mean</th>\n",
       "      <td>59.268123</td>\n",
       "      <td>59.586074</td>\n",
       "    </tr>\n",
       "    <tr>\n",
       "      <th>std</th>\n",
       "      <td>22.895441</td>\n",
       "      <td>22.841336</td>\n",
       "    </tr>\n",
       "    <tr>\n",
       "      <th>min</th>\n",
       "      <td>12.388000</td>\n",
       "      <td>12.706000</td>\n",
       "    </tr>\n",
       "    <tr>\n",
       "      <th>25%</th>\n",
       "      <td>40.814750</td>\n",
       "      <td>41.211574</td>\n",
       "    </tr>\n",
       "    <tr>\n",
       "      <th>50%</th>\n",
       "      <td>58.383313</td>\n",
       "      <td>59.012661</td>\n",
       "    </tr>\n",
       "    <tr>\n",
       "      <th>75%</th>\n",
       "      <td>78.224000</td>\n",
       "      <td>78.683000</td>\n",
       "    </tr>\n",
       "    <tr>\n",
       "      <th>max</th>\n",
       "      <td>100.000000</td>\n",
       "      <td>100.000000</td>\n",
       "    </tr>\n",
       "  </tbody>\n",
       "</table>\n",
       "</div>"
      ],
      "text/plain": [
       "             2016        2017\n",
       "count  262.000000  262.000000\n",
       "mean    59.268123   59.586074\n",
       "std     22.895441   22.841336\n",
       "min     12.388000   12.706000\n",
       "25%     40.814750   41.211574\n",
       "50%     58.383313   59.012661\n",
       "75%     78.224000   78.683000\n",
       "max    100.000000  100.000000"
      ]
     },
     "execution_count": 14,
     "metadata": {},
     "output_type": "execute_result"
    }
   ],
   "source": [
    "'''desribe the choosen dataset'''\n",
    "Df_urban.describe()"
   ]
  },
  {
   "cell_type": "code",
   "execution_count": 15,
   "id": "58b1bb43",
   "metadata": {
    "scrolled": true
   },
   "outputs": [
    {
     "data": {
      "text/html": [
       "<div>\n",
       "<style scoped>\n",
       "    .dataframe tbody tr th:only-of-type {\n",
       "        vertical-align: middle;\n",
       "    }\n",
       "\n",
       "    .dataframe tbody tr th {\n",
       "        vertical-align: top;\n",
       "    }\n",
       "\n",
       "    .dataframe thead th {\n",
       "        text-align: right;\n",
       "    }\n",
       "</style>\n",
       "<table border=\"1\" class=\"dataframe\">\n",
       "  <thead>\n",
       "    <tr style=\"text-align: right;\">\n",
       "      <th></th>\n",
       "      <th>2016</th>\n",
       "      <th>2017</th>\n",
       "    </tr>\n",
       "  </thead>\n",
       "  <tbody>\n",
       "    <tr>\n",
       "      <th>0</th>\n",
       "      <td>0.351596</td>\n",
       "      <td>0.350391</td>\n",
       "    </tr>\n",
       "    <tr>\n",
       "      <th>1</th>\n",
       "      <td>0.256553</td>\n",
       "      <td>0.259197</td>\n",
       "    </tr>\n",
       "    <tr>\n",
       "      <th>2</th>\n",
       "      <td>0.144181</td>\n",
       "      <td>0.143698</td>\n",
       "    </tr>\n",
       "    <tr>\n",
       "      <th>3</th>\n",
       "      <td>0.376818</td>\n",
       "      <td>0.381622</td>\n",
       "    </tr>\n",
       "    <tr>\n",
       "      <th>4</th>\n",
       "      <td>0.590798</td>\n",
       "      <td>0.597212</td>\n",
       "    </tr>\n",
       "  </tbody>\n",
       "</table>\n",
       "</div>"
      ],
      "text/plain": [
       "       2016      2017\n",
       "0  0.351596  0.350391\n",
       "1  0.256553  0.259197\n",
       "2  0.144181  0.143698\n",
       "3  0.376818  0.381622\n",
       "4  0.590798  0.597212"
      ]
     },
     "execution_count": 15,
     "metadata": {},
     "output_type": "execute_result"
    }
   ],
   "source": [
    "from sklearn import preprocessing\n",
    "\n",
    "'''Min Min Scaler is used for data normlization we use sklearn preprocessing for that '''\n",
    "\n",
    "scaler = preprocessing.MinMaxScaler()\n",
    "names = Df_urban.columns\n",
    "d = scaler.fit_transform(Df_urban)\n",
    "scaled_df = pd.DataFrame(d, columns=names)\n",
    "scaled_df.head()"
   ]
  },
  {
   "cell_type": "code",
   "execution_count": 51,
   "id": "31e5bb23",
   "metadata": {},
   "outputs": [
    {
     "name": "stderr",
     "output_type": "stream",
     "text": [
      "E:\\Files\\lib\\site-packages\\scipy\\optimize\\minpack.py:833: OptimizeWarning: Covariance of the parameters could not be estimated\n",
      "  warnings.warn('Covariance of the parameters could not be estimated',\n"
     ]
    },
    {
     "data": {
      "image/png": "[encoded data removed]",
      "text/plain": [
       "<Figure size 720x576 with 1 Axes>"
      ]
     },
     "metadata": {
      "needs_background": "light"
     },
     "output_type": "display_data"
    }
   ],
   "source": [
    "\n",
    "# fit using curve_fit()\n",
    "'''fit the dataset using curve fit Import curve fitting package from scipy'''\n",
    "from scipy.optimize import curve_fit\n",
    "\n",
    "# x and y data for curve fit method\n",
    "\n",
    "'''split in x and y'''\n",
    "\n",
    "x = Df_urban[\"2016\"]\n",
    "y = Df_urban[\"2017\"]\n",
    "\n",
    "def temp(x, A, B):\n",
    "    y = A*np.exp(-1*B*x**2)\n",
    "    return y\n",
    "    \n",
    "'''that above function is guassian function that is for fit the model using curve_fit'''\n",
    "parameters, cov = curve_fit(temp,x, y)\n",
    "\n",
    "fit_A = parameters[0]\n",
    "fit_B = parameters[1]\n",
    "\n",
    "fit_y = temp(Df_urban, fit_A, fit_B)\n",
    "\n",
    "#     plotting\n",
    "plt.figure(figsize=(10,8))\n",
    "plt.plot(x, y,'o', label='data', color=\"black\")\n",
    "plt.plot(x, fit_y, '-', label='fit')\n",
    "plt.legend()\n",
    "plt.show()"
   ]
  },
  {
   "cell_type": "code",
   "execution_count": 36,
   "id": "df106053",
   "metadata": {},
   "outputs": [
    {
     "name": "stderr",
     "output_type": "stream",
     "text": [
      "E:\\Files\\lib\\site-packages\\sklearn\\cluster\\_kmeans.py:881: UserWarning: KMeans is known to have a memory leak on Windows with MKL, when there are less chunks than available threads. You can avoid it by setting the environment variable OMP_NUM_THREADS=2.\n",
      "  warnings.warn(\n"
     ]
    }
   ],
   "source": [
    "# prediction for future values\n",
    "from sklearn.cluster import KMeans\n",
    "\n",
    "'''elbow method is used for finding possible numbers of clusters'''\n",
    "wcss = []\n",
    "for i in range(1,11):\n",
    "    kmeans = KMeans(n_clusters = i, init = \"k-means++\")\n",
    "    kmeans.fit(scaled_df)\n",
    "    wcss.append(kmeans.inertia_)"
   ]
  },
  {
   "cell_type": "code",
   "execution_count": 58,
   "id": "c489c887",
   "metadata": {},
   "outputs": [
    {
     "data": {
      "image/png": "[encoded data removed]",
      "text/plain": [
       "<Figure size 720x576 with 1 Axes>"
      ]
     },
     "metadata": {
      "needs_background": "light"
     },
     "output_type": "display_data"
    }
   ],
   "source": [
    "plt.figure(figsize=(10,8))\n",
    "plt.plot(range(1,11),wcss, color = \"red\")\n",
    "plt.show()"
   ]
  },
  {
   "cell_type": "code",
   "execution_count": 52,
   "id": "8da43d51",
   "metadata": {},
   "outputs": [],
   "source": [
    "'''here we use hierarichal clustering so, we use builtin library for that'''\n",
    "import scipy.cluster.hierarchy as sch\n",
    "from sklearn.cluster import AgglomerativeClustering\n",
    "hc = AgglomerativeClustering(n_clusters=3, affinity=\"euclidean\", linkage=\"ward\")"
   ]
  },
  {
   "cell_type": "code",
   "execution_count": 53,
   "id": "3534dcc0",
   "metadata": {},
   "outputs": [],
   "source": [
    "y_hc = hc.fit_predict(X)"
   ]
  },
  {
   "cell_type": "code",
   "execution_count": 54,
   "id": "19764a98",
   "metadata": {},
   "outputs": [
    {
     "data": {
      "image/png": "[encoded data removed]",
      "text/plain": [
       "<Figure size 720x576 with 1 Axes>"
      ]
     },
     "metadata": {
      "needs_background": "light"
     },
     "output_type": "display_data"
    }
   ],
   "source": [
    "'''scatter is simple method to check clusters'''\n",
    "\n",
    "\n",
    "plt.figure(figsize = (10,8))\n",
    "plt.title(\"Hirearchical clustering\")\n",
    "#cluster 1\n",
    "plt.scatter(X[y_hc==0,0], X[y_hc==0,1], c=\"pink\")\n",
    "plt.scatter(X[y_hc==1,0], X[y_hc==1,1], c=\"black\")\n",
    "plt.scatter(X[y_hc==2,0], X[y_hc==2,1], c=\"green\")\n",
    "plt.show()\n",
    "\n"
   ]
  },
  {
   "cell_type": "code",
   "execution_count": 55,
   "id": "2f7b6242",
   "metadata": {},
   "outputs": [
    {
     "data": {
      "image/png": "[encoded data removed]",
      "text/plain": [
       "<Figure size 864x720 with 1 Axes>"
      ]
     },
     "metadata": {
      "needs_background": "light"
     },
     "output_type": "display_data"
    }
   ],
   "source": [
    "'''here we plotting hierarchial clustering using ward method this is dendrogram'''\n",
    "plt.figure(figsize=(10,8))\n",
    "dendrogram = sch.dendrogram(sch.linkage(X, method=\"ward\"))"
   ]
  },
  {
   "cell_type": "code",
   "execution_count": null,
   "id": "1f07e199",
   "metadata": {},
   "outputs": [],
   "source": []
  }
 ],
 "metadata": {
  "kernelspec": {
   "display_name": "Python 3 (ipykernel)",
   "language": "python",
   "name": "python3"
  },
  "language_info": {
   "codemirror_mode": {
    "name": "ipython",
    "version": 3
   },
   "file_extension": ".py",
   "mimetype": "text/x-python",
   "name": "python",
   "nbconvert_exporter": "python",
   "pygments_lexer": "ipython3",
   "version": "3.9.7"
  }
 },
 "nbformat": 4,
 "nbformat_minor": 5
}
